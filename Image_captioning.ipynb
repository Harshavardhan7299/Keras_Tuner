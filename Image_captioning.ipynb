{
  "nbformat": 4,
  "nbformat_minor": 0,
  "metadata": {
    "accelerator": "GPU",
    "colab": {
      "name": "Image_captioning.ipynb",
      "provenance": [],
      "collapsed_sections": [],
      "include_colab_link": true
    },
    "kernelspec": {
      "display_name": "Python 3",
      "language": "python",
      "name": "python3"
    },
    "language_info": {
      "codemirror_mode": {
        "name": "ipython",
        "version": 3
      },
      "file_extension": ".py",
      "mimetype": "text/x-python",
      "name": "python",
      "nbconvert_exporter": "python",
      "pygments_lexer": "ipython3",
      "version": "3.7.3"
    }
  },
  "cells": [
    {
      "cell_type": "markdown",
      "metadata": {
        "id": "view-in-github",
        "colab_type": "text"
      },
      "source": [
        "<a href=\"https://colab.research.google.com/github/Harshavardhan7299/Keras_Tuner/blob/main/Image_captioning.ipynb\" target=\"_parent\"><img src=\"https://colab.research.google.com/assets/colab-badge.svg\" alt=\"Open In Colab\"/></a>"
      ]
    },
    {
      "cell_type": "markdown",
      "metadata": {
        "id": "FHFgOwk1RJaX"
      },
      "source": [
        "**Image Captioning:**\n",
        "The motive of this project is to predct caption for the image.\n",
        "\n",
        "**Steps need to be followed:**\n",
        "1. Data Collection\n",
        "2. Understand the data\n",
        "3. Data Cleaning\n",
        "4. Image Preprocessing\n",
        "5. Caption Preprocessing\n",
        "6. Data Preparation using Generator\n",
        "7. Word Embeddings\n",
        "8. Model Architecture\n",
        "9. Training\n",
        "10. Testing\n"
      ]
    },
    {
      "cell_type": "code",
      "metadata": {
        "id": "etUsIz7EOi5l"
      },
      "source": [
        "#Importing all the necessary libraries\n",
        "import pandas as pd\n",
        "import numpy as np\n",
        "import matplotlib.pyplot as plt\n",
        "import string\n",
        "import os\n",
        "import pickle\n",
        "\n",
        "from PIL import Image\n",
        "from numpy import array\n",
        "from glob import glob\n",
        "from pickle import dump, load\n",
        "from time import time\n",
        "\n",
        "from tensorflow.keras import Input\n",
        "from tensorflow.keras.models import Sequential,Model\n",
        "from tensorflow.keras.layers import LSTM, Embedding, Dense,Activation, Flatten,\\\n",
        "                            Reshape,concatenate, Dropout, BatchNormalization,add\n",
        "from tensorflow.keras.applications.inception_v3 import InceptionV3,preprocess_input\n",
        "from tensorflow.keras.utils import to_categorical\n",
        "from tensorflow.keras.preprocessing import image,sequence\n",
        "from tensorflow.keras.preprocessing.text import Tokenizer\n",
        "from tensorflow.keras.preprocessing.sequence import pad_sequences\n"
      ],
      "execution_count": 64,
      "outputs": []
    },
    {
      "cell_type": "code",
      "metadata": {
        "id": "m80tiAAUOi5u"
      },
      "source": [
        "# load doc into memory\n",
        "def load_doc(filename):\n",
        "    # Opening file for read only\n",
        "    file1 = open(filename, 'r')\n",
        "    # read all text\n",
        "    text = file1.read()\n",
        "    # close the file\n",
        "    file1.close()\n",
        "    return text\n",
        "\n",
        "filename = r\"/content/drive/MyDrive/Image Captioning/Image_Captioning/data/Flickr8k_text/Flickr8k.token.txt\"\n",
        "# load descriptions\n",
        "doc = load_doc(filename)"
      ],
      "execution_count": 19,
      "outputs": []
    },
    {
      "cell_type": "code",
      "metadata": {
        "colab": {
          "base_uri": "https://localhost:8080/"
        },
        "id": "SqrrpxscOi5x",
        "outputId": "865773e1-be49-4b0a-a1ee-6b580c6488e9"
      },
      "source": [
        "#Loading descriptions with above doc file\n",
        "def load_descriptions(doc):\n",
        "    mapping = dict()\n",
        "    # Process lines\n",
        "    for line in doc.split('\\n'):\n",
        "        # split line by white space\n",
        "        tokens = line.split()\n",
        "        if len(line) < 2:\n",
        "            continue\n",
        "        # Take the first token as the image id, the rest as the description\n",
        "        image_id, image_desc = tokens[0], tokens[1:]\n",
        "        # Extract filename from image id\n",
        "        image_id = image_id.split('.')[0]\n",
        "        # Convert description tokens back to string\n",
        "        image_desc = ' '.join(image_desc)\n",
        "        # Create the list if needed\n",
        "        if image_id not in mapping:\n",
        "            mapping[image_id] = list()\n",
        "        # Store description\n",
        "        mapping[image_id].append(image_desc)\n",
        "    return mapping\n",
        "\n",
        "# parse descriptions\n",
        "descriptions = load_descriptions(doc)\n",
        "print('Loaded: %d ' % len(descriptions))"
      ],
      "execution_count": 20,
      "outputs": [
        {
          "output_type": "stream",
          "text": [
            "Loaded: 8092 \n"
          ],
          "name": "stdout"
        }
      ]
    },
    {
      "cell_type": "code",
      "metadata": {
        "id": "KUWH79CIOi51"
      },
      "source": [
        "# Cleaning above descriptions\n",
        "def clean_descriptions(descriptions):\n",
        "\t# prepare translation table for removing punctuation\n",
        "\ttable = str.maketrans('', '', string.punctuation)\n",
        "\tfor key, desc_list in descriptions.items():\n",
        "\t\tfor i in range(len(desc_list)):\n",
        "\t\t\tdesc = desc_list[i]\n",
        "\t\t\t# tokenize\n",
        "\t\t\tdesc = desc.split()\n",
        "\t\t\t# convert to lower case\n",
        "\t\t\tdesc = [word.lower() for word in desc]\n",
        "\t\t\t# remove punctuation from each token\n",
        "\t\t\tdesc = [w.translate(table) for w in desc]\n",
        "\t\t\t# remove hanging 's' and 'a'\n",
        "\t\t\tdesc = [word for word in desc if len(word)>1]\n",
        "\t\t\t# remove tokens with numbers in them\n",
        "\t\t\tdesc = [word for word in desc if word.isalpha()]\n",
        "\t\t\t# store as string\n",
        "\t\t\tdesc_list[i] =  ' '.join(desc)\n",
        "\n",
        "# clean descriptions\n",
        "clean_descriptions(descriptions)"
      ],
      "execution_count": 21,
      "outputs": []
    },
    {
      "cell_type": "code",
      "metadata": {
        "colab": {
          "base_uri": "https://localhost:8080/"
        },
        "id": "Cto0cMsGOi52",
        "outputId": "8e8c62d5-b734-4e29-815e-d7fe9c0ea9b0"
      },
      "source": [
        "# converting those loaded description into vocabulary of words\n",
        "def to_vocabulary(descriptions):\n",
        "    # build a list of all description strings\n",
        "    all_desc = set()\n",
        "    for key in descriptions.keys():\n",
        "        [all_desc.update(d.split()) for d in descriptions[key]]\n",
        "    return all_desc\n",
        "\n",
        "# summarize vocabulary\n",
        "vocabulary = to_vocabulary(descriptions)\n",
        "print('Original Vocabulary Size: %d' % len(vocabulary))"
      ],
      "execution_count": 22,
      "outputs": [
        {
          "output_type": "stream",
          "text": [
            "Original Vocabulary Size: 8763\n"
          ],
          "name": "stdout"
        }
      ]
    },
    {
      "cell_type": "code",
      "metadata": {
        "id": "NsxFoOl_Oi53"
      },
      "source": [
        "# We are saving descriptions one per line\n",
        "def save_descriptions(descriptions, filename):\n",
        "    lines = list()\n",
        "    for key, desc_list in descriptions.items():\n",
        "        for desc in desc_list:\n",
        "            lines.append(key + ' ' + desc)\n",
        "    data = '\\n'.join(lines)\n",
        "    file1 = open(filename, 'w')\n",
        "    file1.write(data)\n",
        "    file1.close()\n",
        "\n",
        "save_descriptions(descriptions, '/content/drive/MyDrive/Image Captioning/Image_Captioning/data/Flickr8k_text/descriptions.txt')"
      ],
      "execution_count": 23,
      "outputs": []
    },
    {
      "cell_type": "code",
      "metadata": {
        "colab": {
          "base_uri": "https://localhost:8080/"
        },
        "id": "JDaIIeP7Oi53",
        "outputId": "d9a7033c-05d1-4b52-fcff-eb08fe3f9f56"
      },
      "source": [
        "# loading  the pre-defined list of photo identifiers\n",
        "def load_set(filename):\n",
        "    doc = load_doc(filename)\n",
        "    dataset = list()\n",
        "    # process line by line\n",
        "    for line in doc.split('\\n'):\n",
        "        # skip empty lines\n",
        "        if len(line) < 1:\n",
        "            continue\n",
        "        # get the image identifier\n",
        "        identifier = line.split('.')[0]\n",
        "        dataset.append(identifier)\n",
        "    return set(dataset)\n",
        "\n",
        "# load training dataset (6K)\n",
        "filename = r'/content/drive/MyDrive/Image Captioning/Image_Captioning/data/Flickr8k_text/Flickr_8k.trainImages.txt'\n",
        "train = load_set(filename)\n",
        "print('Train Dataset: %d' % len(train))"
      ],
      "execution_count": 24,
      "outputs": [
        {
          "output_type": "stream",
          "text": [
            "Train Dataset: 6000\n"
          ],
          "name": "stdout"
        }
      ]
    },
    {
      "cell_type": "code",
      "metadata": {
        "id": "_pqRAwoDOi54"
      },
      "source": [
        "# Below path contains all the images\n",
        "images = r'/content/drive/MyDrive/Image Captioning/Image_Captioning/data/Flicker8k_Dataset/'\n",
        "# Create a list of all image names in the directory\n",
        "img = glob(images + '*.jpg')"
      ],
      "execution_count": 25,
      "outputs": []
    },
    {
      "cell_type": "code",
      "metadata": {
        "id": "_R2ly70XOi54"
      },
      "source": [
        "# Below path contains all name of images which is to be used as train data\n",
        "train_images_file = r'/content/drive/MyDrive/Image Captioning/Image_Captioning/data/Flickr8k_text/Flickr_8k.trainImages.txt'\n",
        "# Reading the train image names in a set\n",
        "train_images = set(open(train_images_file, 'r').read().strip().split('\\n'))\n",
        "\n",
        "# Create a list of all the training images with their full path names\n",
        "train_img = []\n",
        "\n",
        "for i in img: # img is list of full path names of all images\n",
        "    if i[len(images):] in train_images: # Check if the image belongs to training set\n",
        "        train_img.append(i) # Add it to the list of train image"
      ],
      "execution_count": 26,
      "outputs": []
    },
    {
      "cell_type": "code",
      "metadata": {
        "id": "L7Pz_IaYOi55"
      },
      "source": [
        "# Below path contains all name of images which is used to be as test data\n",
        "test_images_file = r'/content/drive/MyDrive/Image Captioning/Image_Captioning/data/Flickr8k_text/Flickr_8k.testImages.txt'\n",
        "# Read the test image names in a set\n",
        "test_images = set(open(test_images_file, 'r').read().strip().split('\\n'))\n",
        "\n",
        "# Create a list of all the test images with their full path names\n",
        "test_img = []\n",
        "\n",
        "for i in img: # img is list of full path names of all images\n",
        "    if i[len(images):] in test_images: # Check if the image belongs to test set\n",
        "        test_img.append(i) # Add it to the list of test images"
      ],
      "execution_count": 27,
      "outputs": []
    },
    {
      "cell_type": "code",
      "metadata": {
        "colab": {
          "base_uri": "https://localhost:8080/"
        },
        "id": "WnPqI3x7RBMS",
        "outputId": "9cbba66c-70f4-4590-a628-3425dad079cf"
      },
      "source": [
        "# load clean descriptions into memory\n",
        "def load_clean_descriptions(filename, dataset):\n",
        "\t# load document\n",
        "\tdoc = load_doc(filename)\n",
        "\tdescriptions = dict()\n",
        "\tfor line in doc.split('\\n'):\n",
        "\t\t# split line by white space\n",
        "\t\ttokens = line.split()\n",
        "\t\t# split id from description\n",
        "\t\timage_id, image_desc = tokens[0], tokens[1:]\n",
        "\t\t# skip images not in the set\n",
        "\t\tif image_id in dataset:\n",
        "\t\t\t# create list\n",
        "\t\t\tif image_id not in descriptions:\n",
        "\t\t\t\tdescriptions[image_id] = list()\n",
        "\t\t\t# wrap description in tokens\n",
        "\t\t\tdesc = 'startseq ' + ' '.join(image_desc) + ' endseq'\n",
        "\t\t\t# store\n",
        "\t\t\tdescriptions[image_id].append(desc)\n",
        "\treturn descriptions\n",
        "\n",
        "# descriptions\n",
        "train_descriptions = load_clean_descriptions('/content/drive/MyDrive/Image Captioning/Image_Captioning/data/Flickr8k_text/descriptions.txt', train)\n",
        "print('Train Descriptions: train=%d' % len(train_descriptions))"
      ],
      "execution_count": 28,
      "outputs": [
        {
          "output_type": "stream",
          "text": [
            "Train Descriptions: train=6000\n"
          ],
          "name": "stdout"
        }
      ]
    },
    {
      "cell_type": "code",
      "metadata": {
        "id": "rPhgv5aOOi56"
      },
      "source": [
        "# We're converting our image size 299x299\n",
        "def preprocess(image_path):\n",
        "    # Convert all the images to size 299x299 as expected by the inception v3 model\n",
        "    img = image.load_img(image_path, target_size=(299, 299))\n",
        "    # Convert PIL image to numpy array of 3-dimensions\n",
        "    x = image.img_to_array(img)\n",
        "    # Add one more dimension\n",
        "    x = np.expand_dims(x, axis=0)\n",
        "    # preprocess the images using preprocess_input() from inception module\n",
        "    x = preprocess_input(x)\n",
        "    return x"
      ],
      "execution_count": 29,
      "outputs": []
    },
    {
      "cell_type": "code",
      "metadata": {
        "id": "CHPjk70SOi56",
        "colab": {
          "base_uri": "https://localhost:8080/"
        },
        "outputId": "ebe40dfb-7bab-42c2-fc74-ef3687512022"
      },
      "source": [
        "# Loaded the InceptionV3 model here\n",
        "model = InceptionV3(weights='imagenet')"
      ],
      "execution_count": 30,
      "outputs": [
        {
          "output_type": "stream",
          "text": [
            "Downloading data from https://storage.googleapis.com/tensorflow/keras-applications/inception_v3/inception_v3_weights_tf_dim_ordering_tf_kernels.h5\n",
            "96116736/96112376 [==============================] - 1s 0us/step\n"
          ],
          "name": "stdout"
        }
      ]
    },
    {
      "cell_type": "code",
      "metadata": {
        "id": "yvMwnpIMOi57"
      },
      "source": [
        "# Creating a new model, by removing the last layer(output layer) from the inception v3\n",
        "model_new = Model(model.input, model.layers[-2].output)"
      ],
      "execution_count": 31,
      "outputs": []
    },
    {
      "cell_type": "code",
      "metadata": {
        "id": "tl6Mk4b9Oi57"
      },
      "source": [
        "# Function to encode a given image into a vector of size (2048, )\n",
        "def encode(image):\n",
        "    image = preprocess(image) # preprocess the image\n",
        "    fea_vec = model_new.predict(image) # Get the encoding vector for the image\n",
        "    fea_vec = np.reshape(fea_vec, fea_vec.shape[1]) # reshape from (1, 2048) to (2048, )\n",
        "    return fea_vec"
      ],
      "execution_count": 32,
      "outputs": []
    },
    {
      "cell_type": "code",
      "metadata": {
        "id": "I1e5olaMOi58"
      },
      "source": [
        "# We're Calling the above funtion to encode all the train images\n",
        "# This will take a while on CPU - Execute this only once\n",
        "start = time()\n",
        "encoding_train = {}\n",
        "for img in train_img:\n",
        "    encoding_train[img[len(images):]] = encode(img)\n",
        "print(\"Time taken in seconds =\", time()-start)"
      ],
      "execution_count": null,
      "outputs": []
    },
    {
      "cell_type": "code",
      "metadata": {
        "id": "MxQ3cp27Oi58"
      },
      "source": [
        "# Save this encoded_train pkl files for training features to the disk\n",
        "with open(\"/content/drive/MyDrive/Image Captioning/Image_Captioning/data/Pickle/encoded_train_images.pkl\", \"wb\") as encoded_pickle:\n",
        "    pickle.dump(encoding_train, encoded_pickle)"
      ],
      "execution_count": 34,
      "outputs": []
    },
    {
      "cell_type": "code",
      "metadata": {
        "id": "icNE7X83Oi59",
        "colab": {
          "base_uri": "https://localhost:8080/"
        },
        "outputId": "01b046e4-5f28-49f6-c02d-64aafa378179"
      },
      "source": [
        "# We're Calling the above funtion to encode all the test images - Execute this only once\n",
        "start = time()\n",
        "encoding_test = {}\n",
        "for img in test_img:\n",
        "    encoding_test[img[len(images):]] = encode(img)\n",
        "print(\"Time taken in seconds =\", time()-start)"
      ],
      "execution_count": 67,
      "outputs": [
        {
          "output_type": "stream",
          "text": [
            "Time taken in seconds = 451.90904450416565\n"
          ],
          "name": "stdout"
        }
      ]
    },
    {
      "cell_type": "code",
      "metadata": {
        "id": "nRk00wVfOi59"
      },
      "source": [
        "# Save the encoded_test pkl file for testing purposes to disk\n",
        "with open(\"/content/drive/MyDrive/Image Captioning/Image_Captioning/data/Pickle/encoded_test_images.pkl\", \"wb\") as encoded_pickle:\n",
        "    pickle.dump(encoding_test, encoded_pickle)"
      ],
      "execution_count": 68,
      "outputs": []
    },
    {
      "cell_type": "code",
      "metadata": {
        "id": "rO_Gs9Y0Oi5-",
        "colab": {
          "base_uri": "https://localhost:8080/"
        },
        "outputId": "ea232912-cf8e-4c50-8e09-ac2daa068464"
      },
      "source": [
        "#Let's check how many images we're taking for training\n",
        "train_features = load(open(\"/content/drive/MyDrive/Image Captioning/Image_Captioning/data/Pickle/encoded_train_images.pkl\", \"rb\"))\n",
        "print('Photos: train=%d' % len(train_features))"
      ],
      "execution_count": 37,
      "outputs": [
        {
          "output_type": "stream",
          "text": [
            "Photos: train=6000\n"
          ],
          "name": "stdout"
        }
      ]
    },
    {
      "cell_type": "code",
      "metadata": {
        "id": "J1fdW04AOi5-",
        "colab": {
          "base_uri": "https://localhost:8080/"
        },
        "outputId": "194b1b4c-9a88-4505-ee38-a76f5039e1f7"
      },
      "source": [
        "# We're creating here a list of all the training captions\n",
        "all_train_captions = []\n",
        "for key, val in train_descriptions.items():\n",
        "    for cap in val:\n",
        "        all_train_captions.append(cap)\n",
        "len(all_train_captions)"
      ],
      "execution_count": 38,
      "outputs": [
        {
          "output_type": "execute_result",
          "data": {
            "text/plain": [
              "30000"
            ]
          },
          "metadata": {
            "tags": []
          },
          "execution_count": 38
        }
      ]
    },
    {
      "cell_type": "code",
      "metadata": {
        "id": "ojS9vwslOi5-",
        "colab": {
          "base_uri": "https://localhost:8080/"
        },
        "outputId": "641a4d74-3686-4a17-82f9-ae7a1bfe337c"
      },
      "source": [
        "# Considering only those words which occur at least 10 times in the corpus\n",
        "word_count_threshold = 10\n",
        "word_counts = {}\n",
        "for sent in all_train_captions:\n",
        "    for w in sent.split(' '):\n",
        "        word_counts[w] = word_counts.get(w, 0) + 1\n",
        "\n",
        "vocab = [w for w in word_counts if word_counts[w] >= word_count_threshold]\n",
        "print('preprocessed words %d -> %d' % (len(word_counts), len(vocab)))"
      ],
      "execution_count": 39,
      "outputs": [
        {
          "output_type": "stream",
          "text": [
            "preprocessed words 7578 -> 1651\n"
          ],
          "name": "stdout"
        }
      ]
    },
    {
      "cell_type": "code",
      "metadata": {
        "id": "fNt2rbrWOi5_"
      },
      "source": [
        "# Here we created two dictionaries\n",
        "ixtoword = {} #index to word\n",
        "wordtoix = {} #word to index\n",
        "\n",
        "ix = 1\n",
        "for w in vocab:\n",
        "    wordtoix[w] = ix\n",
        "    ixtoword[ix] = w\n",
        "    ix += 1"
      ],
      "execution_count": 40,
      "outputs": []
    },
    {
      "cell_type": "code",
      "metadata": {
        "id": "y37bU6NHOi5_",
        "colab": {
          "base_uri": "https://localhost:8080/"
        },
        "outputId": "cf1305ce-a2ef-469c-9537-0c672590926d"
      },
      "source": [
        "vocab_size = len(ixtoword) + 1 #one for appended 0's\n",
        "vocab_size"
      ],
      "execution_count": 41,
      "outputs": [
        {
          "output_type": "execute_result",
          "data": {
            "text/plain": [
              "1652"
            ]
          },
          "metadata": {
            "tags": []
          },
          "execution_count": 41
        }
      ]
    },
    {
      "cell_type": "code",
      "metadata": {
        "id": "DGoAgQ1qOi6A",
        "colab": {
          "base_uri": "https://localhost:8080/"
        },
        "outputId": "3369ed18-3158-4c6c-eef0-7e7b4a215c0c"
      },
      "source": [
        "# converting a dictionary of clean descriptions to a list of descriptions\n",
        "def to_lines(descriptions):\n",
        "\tall_desc = list()\n",
        "\tfor key in descriptions.keys():\n",
        "\t\t[all_desc.append(d) for d in descriptions[key]]\n",
        "\treturn all_desc\n",
        "\n",
        "# calculating the length of the description with the most words\n",
        "def max_length(descriptions):\n",
        "\tlines = to_lines(descriptions)\n",
        "\treturn max(len(d.split()) for d in lines)\n",
        "\n",
        "# determine the maximum sequence length\n",
        "max_length = max_length(train_descriptions)\n",
        "print('Description Length: %d' % max_length)"
      ],
      "execution_count": 42,
      "outputs": [
        {
          "output_type": "stream",
          "text": [
            "Description Length: 34\n"
          ],
          "name": "stdout"
        }
      ]
    },
    {
      "cell_type": "code",
      "metadata": {
        "id": "8ol5UMktOi6A"
      },
      "source": [
        "# data generator, intended to be used in a call to model.fit_generator()\n",
        "def data_generator(descriptions, photos, wordtoix, max_length, num_photos_per_batch):\n",
        "    X1, X2, y = list(), list(), list()\n",
        "    n=0\n",
        "    # loop for ever over images\n",
        "    while 1:\n",
        "        for key, desc_list in descriptions.items():\n",
        "            n+=1\n",
        "            # retrieve the photo feature\n",
        "            photo = photos[key+'.jpg']\n",
        "            for desc in desc_list:\n",
        "                # encode the sequence\n",
        "                seq = [wordtoix[word] for word in desc.split(' ') if word in wordtoix]\n",
        "                # split one sequence into multiple X, y pairs\n",
        "                for i in range(1, len(seq)):\n",
        "                    # split into input and output pair\n",
        "                    in_seq, out_seq = seq[:i], seq[i]\n",
        "                    # pad input sequence\n",
        "                    in_seq = pad_sequences([in_seq], maxlen=max_length)[0]\n",
        "                    # encode output sequence\n",
        "                    out_seq = to_categorical([out_seq], num_classes=vocab_size)[0]\n",
        "                    # store\n",
        "                    X1.append(photo)\n",
        "                    X2.append(in_seq)\n",
        "                    y.append(out_seq)\n",
        "            # yield the batch data\n",
        "            if n==num_photos_per_batch:\n",
        "                yield ((array(X1), array(X2)), array(y))\n",
        "                X1, X2, y = list(), list(), list()\n",
        "                n=0"
      ],
      "execution_count": 43,
      "outputs": []
    },
    {
      "cell_type": "code",
      "metadata": {
        "id": "8RjUd1UlOi6B",
        "colab": {
          "base_uri": "https://localhost:8080/"
        },
        "outputId": "d5a9d770-b8fb-4840-e347-cd2e6b403ee2"
      },
      "source": [
        "# Load Glove vectors(You need to download 'glove.6B.200d.txt')\n",
        "glove_dir = '/content/drive/MyDrive/Image Captioning/Image_Captioning/glove'\n",
        "embeddings_index = {} # empty dictionary\n",
        "f = open(os.path.join(glove_dir, 'glove.6B.200d.txt'), encoding=\"utf-8\")\n",
        "\n",
        "for line in f:\n",
        "    values = line.split()\n",
        "    word = values[0]\n",
        "    coefs = np.asarray(values[1:], dtype='float32')\n",
        "    embeddings_index[word] = coefs\n",
        "f.close()\n",
        "print('Found %s word vectors.' % len(embeddings_index))"
      ],
      "execution_count": 45,
      "outputs": [
        {
          "output_type": "stream",
          "text": [
            "Found 400000 word vectors.\n"
          ],
          "name": "stdout"
        }
      ]
    },
    {
      "cell_type": "code",
      "metadata": {
        "id": "qS8fZaVUOi6C"
      },
      "source": [
        "embedding_dim = 200\n",
        "\n",
        "# Get 200-dimension dense vector for each of the 10000 words in out vocabulary\n",
        "embedding_matrix = np.zeros((vocab_size, embedding_dim))\n",
        "\n",
        "for word, i in wordtoix.items():\n",
        "    # If i < max_words:\n",
        "    embedding_vector = embeddings_index.get(word)\n",
        "    if embedding_vector is not None:\n",
        "        # Words not found in the embedding index will be all zeros\n",
        "        embedding_matrix[i] = embedding_vector"
      ],
      "execution_count": 46,
      "outputs": []
    },
    {
      "cell_type": "code",
      "metadata": {
        "id": "t7FCd2iaOi6C",
        "colab": {
          "base_uri": "https://localhost:8080/"
        },
        "outputId": "6ef61602-e752-4109-bb5c-d9fffaacf081"
      },
      "source": [
        "embedding_matrix.shape"
      ],
      "execution_count": 47,
      "outputs": [
        {
          "output_type": "execute_result",
          "data": {
            "text/plain": [
              "(1652, 200)"
            ]
          },
          "metadata": {
            "tags": []
          },
          "execution_count": 47
        }
      ]
    },
    {
      "cell_type": "code",
      "metadata": {
        "id": "CKWgv2oLOi6C"
      },
      "source": [
        "inputs1 = Input(shape=(2048,))\n",
        "fe1 = Dropout(0.5)(inputs1)\n",
        "fe2 = Dense(256, activation='relu')(fe1)\n",
        "inputs2 = Input(shape=(max_length,))\n",
        "\n",
        "se1 = Embedding(vocab_size, embedding_dim, mask_zero=True)(inputs2)\n",
        "se2 = Dropout(0.5)(se1)\n",
        "se3 = LSTM(256)(se2)\n",
        "\n",
        "decoder1 = add([fe2, se3])\n",
        "decoder2 = Dense(256, activation='relu')(decoder1)\n",
        "outputs = Dense(vocab_size, activation='softmax')(decoder2)\n",
        "\n",
        "model = Model(inputs=[inputs1, inputs2], outputs=outputs)"
      ],
      "execution_count": 48,
      "outputs": []
    },
    {
      "cell_type": "code",
      "metadata": {
        "id": "GiLJfNpJOi6D",
        "colab": {
          "base_uri": "https://localhost:8080/"
        },
        "outputId": "e926f1f3-326b-44ac-b5b7-8b105c650cff"
      },
      "source": [
        "# Summary of the model\n",
        "model.summary()"
      ],
      "execution_count": 49,
      "outputs": [
        {
          "output_type": "stream",
          "text": [
            "Model: \"model_1\"\n",
            "__________________________________________________________________________________________________\n",
            "Layer (type)                    Output Shape         Param #     Connected to                     \n",
            "==================================================================================================\n",
            "input_4 (InputLayer)            [(None, 34)]         0                                            \n",
            "__________________________________________________________________________________________________\n",
            "input_3 (InputLayer)            [(None, 2048)]       0                                            \n",
            "__________________________________________________________________________________________________\n",
            "embedding (Embedding)           (None, 34, 200)      330400      input_4[0][0]                    \n",
            "__________________________________________________________________________________________________\n",
            "dropout_1 (Dropout)             (None, 2048)         0           input_3[0][0]                    \n",
            "__________________________________________________________________________________________________\n",
            "dropout_2 (Dropout)             (None, 34, 200)      0           embedding[0][0]                  \n",
            "__________________________________________________________________________________________________\n",
            "dense_1 (Dense)                 (None, 256)          524544      dropout_1[0][0]                  \n",
            "__________________________________________________________________________________________________\n",
            "lstm (LSTM)                     (None, 256)          467968      dropout_2[0][0]                  \n",
            "__________________________________________________________________________________________________\n",
            "add (Add)                       (None, 256)          0           dense_1[0][0]                    \n",
            "                                                                 lstm[0][0]                       \n",
            "__________________________________________________________________________________________________\n",
            "dense_2 (Dense)                 (None, 256)          65792       add[0][0]                        \n",
            "__________________________________________________________________________________________________\n",
            "dense_3 (Dense)                 (None, 1652)         424564      dense_2[0][0]                    \n",
            "==================================================================================================\n",
            "Total params: 1,813,268\n",
            "Trainable params: 1,813,268\n",
            "Non-trainable params: 0\n",
            "__________________________________________________________________________________________________\n"
          ],
          "name": "stdout"
        }
      ]
    },
    {
      "cell_type": "code",
      "metadata": {
        "id": "vW1F33fNOi6D",
        "colab": {
          "base_uri": "https://localhost:8080/"
        },
        "outputId": "75a2ac2e-9bd9-44cb-cab9-afb343c7bb00"
      },
      "source": [
        "model.layers[2]"
      ],
      "execution_count": 50,
      "outputs": [
        {
          "output_type": "execute_result",
          "data": {
            "text/plain": [
              "<tensorflow.python.keras.layers.embeddings.Embedding at 0x7f0db1ad2c88>"
            ]
          },
          "metadata": {
            "tags": []
          },
          "execution_count": 50
        }
      ]
    },
    {
      "cell_type": "code",
      "metadata": {
        "id": "QuTz4W44Oi6D"
      },
      "source": [
        "# Set the weights for the layers\n",
        "model.layers[2].set_weights([embedding_matrix])\n",
        "model.layers[2].trainable = False"
      ],
      "execution_count": 51,
      "outputs": []
    },
    {
      "cell_type": "code",
      "metadata": {
        "id": "q4-8AdQoOi6E"
      },
      "source": [
        "model.compile(loss='categorical_crossentropy', optimizer='adam')"
      ],
      "execution_count": 52,
      "outputs": []
    },
    {
      "cell_type": "code",
      "metadata": {
        "id": "XhLhVyCsOi6E"
      },
      "source": [
        "epochs = 150\n",
        "number_pics_per_bath = 3\n",
        "steps = len(train_descriptions)//number_pics_per_bath"
      ],
      "execution_count": 35,
      "outputs": []
    },
    {
      "cell_type": "code",
      "metadata": {
        "id": "1VVoMHknOi6E",
        "colab": {
          "base_uri": "https://localhost:8080/"
        },
        "outputId": "b6b72a15-efde-45d5-f304-b6eda067ef50"
      },
      "source": [
        "for i in range(epochs):\n",
        "    generator = data_generator(train_descriptions, train_features, wordtoix, max_length, number_pics_per_bath)\n",
        "    model.fit(generator, epochs=1, steps_per_epoch=steps, verbose=1)\n",
        "    model.save('/content/drive/MyDrive/Image Captioning/Image_Captioning/model_weights/model_' + str(i) + '.h5')"
      ],
      "execution_count": 36,
      "outputs": [
        {
          "output_type": "stream",
          "text": [
            "2000/2000 [==============================] - 186s 91ms/step - loss: 4.5976\n",
            "2000/2000 [==============================] - 184s 92ms/step - loss: 3.4252\n",
            "2000/2000 [==============================] - 184s 92ms/step - loss: 3.2026\n",
            "2000/2000 [==============================] - 183s 92ms/step - loss: 3.0694\n",
            "2000/2000 [==============================] - 186s 93ms/step - loss: 2.9741\n",
            "2000/2000 [==============================] - 188s 94ms/step - loss: 2.9021\n",
            "2000/2000 [==============================] - 181s 91ms/step - loss: 2.8433\n",
            "2000/2000 [==============================] - 179s 90ms/step - loss: 2.7961\n",
            "2000/2000 [==============================] - 179s 90ms/step - loss: 2.7547\n",
            "2000/2000 [==============================] - 179s 90ms/step - loss: 2.7224\n",
            "2000/2000 [==============================] - 179s 89ms/step - loss: 2.6901\n",
            "2000/2000 [==============================] - 176s 88ms/step - loss: 2.6659\n",
            "2000/2000 [==============================] - 180s 90ms/step - loss: 2.6424\n",
            "2000/2000 [==============================] - 184s 92ms/step - loss: 2.6207\n",
            "2000/2000 [==============================] - 183s 92ms/step - loss: 2.6007\n",
            "2000/2000 [==============================] - 185s 93ms/step - loss: 2.5856\n",
            "2000/2000 [==============================] - 185s 93ms/step - loss: 2.5682\n",
            "2000/2000 [==============================] - 180s 90ms/step - loss: 2.5526\n",
            "2000/2000 [==============================] - 182s 91ms/step - loss: 2.5396\n",
            "2000/2000 [==============================] - 180s 90ms/step - loss: 2.5297\n",
            "2000/2000 [==============================] - 179s 89ms/step - loss: 2.5139\n",
            "2000/2000 [==============================] - 179s 90ms/step - loss: 2.5078\n",
            "2000/2000 [==============================] - 178s 89ms/step - loss: 2.4978\n",
            "2000/2000 [==============================] - 178s 89ms/step - loss: 2.4899\n",
            "2000/2000 [==============================] - 177s 88ms/step - loss: 2.4795\n",
            "2000/2000 [==============================] - 183s 92ms/step - loss: 2.4713\n",
            "2000/2000 [==============================] - 182s 91ms/step - loss: 2.4646\n",
            "2000/2000 [==============================] - 184s 92ms/step - loss: 2.4559\n",
            "2000/2000 [==============================] - 175s 88ms/step - loss: 2.4520\n",
            "2000/2000 [==============================] - 175s 87ms/step - loss: 2.4481\n",
            "2000/2000 [==============================] - 178s 89ms/step - loss: 2.4426\n",
            "2000/2000 [==============================] - 176s 88ms/step - loss: 2.4324\n",
            "2000/2000 [==============================] - 174s 87ms/step - loss: 2.4267\n",
            "2000/2000 [==============================] - 180s 90ms/step - loss: 2.4224\n",
            "2000/2000 [==============================] - 176s 88ms/step - loss: 2.4170\n",
            "2000/2000 [==============================] - 177s 88ms/step - loss: 2.4112\n",
            "2000/2000 [==============================] - 177s 88ms/step - loss: 2.4076\n",
            "2000/2000 [==============================] - 175s 87ms/step - loss: 2.4056\n",
            "2000/2000 [==============================] - 174s 87ms/step - loss: 2.3993\n",
            "2000/2000 [==============================] - 174s 87ms/step - loss: 2.3946\n",
            "2000/2000 [==============================] - 175s 88ms/step - loss: 2.3918\n",
            "2000/2000 [==============================] - 180s 90ms/step - loss: 2.3898\n",
            "2000/2000 [==============================] - 180s 90ms/step - loss: 2.3847\n",
            "2000/2000 [==============================] - 181s 90ms/step - loss: 2.3814\n",
            "2000/2000 [==============================] - 181s 91ms/step - loss: 2.3789\n",
            "2000/2000 [==============================] - 182s 91ms/step - loss: 2.3754\n",
            "2000/2000 [==============================] - 179s 89ms/step - loss: 2.3727\n",
            "2000/2000 [==============================] - 177s 88ms/step - loss: 2.3720\n",
            "2000/2000 [==============================] - 177s 88ms/step - loss: 2.3693\n",
            "2000/2000 [==============================] - 178s 89ms/step - loss: 2.3626\n",
            "2000/2000 [==============================] - 185s 92ms/step - loss: 2.3633\n",
            "2000/2000 [==============================] - 183s 92ms/step - loss: 2.3589\n",
            "2000/2000 [==============================] - 185s 93ms/step - loss: 2.3586\n",
            "2000/2000 [==============================] - 186s 93ms/step - loss: 2.3554\n",
            "2000/2000 [==============================] - 183s 92ms/step - loss: 2.3540\n",
            "2000/2000 [==============================] - 186s 93ms/step - loss: 2.3530\n",
            "2000/2000 [==============================] - 181s 90ms/step - loss: 2.3505\n",
            "2000/2000 [==============================] - 182s 91ms/step - loss: 2.3475\n",
            "2000/2000 [==============================] - 181s 91ms/step - loss: 2.3408\n",
            "2000/2000 [==============================] - 184s 92ms/step - loss: 2.3438\n",
            "2000/2000 [==============================] - 183s 91ms/step - loss: 2.3408\n",
            "2000/2000 [==============================] - 185s 93ms/step - loss: 2.3388\n",
            "2000/2000 [==============================] - 182s 91ms/step - loss: 2.3380\n",
            "2000/2000 [==============================] - 178s 89ms/step - loss: 2.3334\n",
            "2000/2000 [==============================] - 177s 89ms/step - loss: 2.3326\n",
            "2000/2000 [==============================] - 177s 88ms/step - loss: 2.3353\n",
            "2000/2000 [==============================] - 176s 88ms/step - loss: 2.3310\n",
            "2000/2000 [==============================] - 178s 89ms/step - loss: 2.3309\n",
            "2000/2000 [==============================] - 177s 89ms/step - loss: 2.3298\n",
            "2000/2000 [==============================] - 180s 90ms/step - loss: 2.3269\n",
            "2000/2000 [==============================] - 181s 90ms/step - loss: 2.3257\n",
            "2000/2000 [==============================] - 179s 90ms/step - loss: 2.3276\n",
            "2000/2000 [==============================] - 177s 88ms/step - loss: 2.3234\n",
            "2000/2000 [==============================] - 177s 88ms/step - loss: 2.3269\n",
            "2000/2000 [==============================] - 176s 88ms/step - loss: 2.3234\n",
            "2000/2000 [==============================] - 175s 88ms/step - loss: 2.3206\n",
            "2000/2000 [==============================] - 176s 88ms/step - loss: 2.3200\n",
            "2000/2000 [==============================] - 178s 89ms/step - loss: 2.3167\n",
            "2000/2000 [==============================] - 182s 91ms/step - loss: 2.3165\n",
            "2000/2000 [==============================] - 182s 91ms/step - loss: 2.3176\n",
            "2000/2000 [==============================] - 186s 93ms/step - loss: 2.3137\n",
            "2000/2000 [==============================] - 181s 90ms/step - loss: 2.3124\n",
            "2000/2000 [==============================] - 179s 90ms/step - loss: 2.3150\n",
            "2000/2000 [==============================] - 181s 91ms/step - loss: 2.3110\n",
            "2000/2000 [==============================] - 184s 92ms/step - loss: 2.3102\n",
            "2000/2000 [==============================] - 182s 91ms/step - loss: 2.3115\n",
            "2000/2000 [==============================] - 179s 89ms/step - loss: 2.3075\n",
            "2000/2000 [==============================] - 182s 91ms/step - loss: 2.3114\n",
            "2000/2000 [==============================] - 181s 90ms/step - loss: 2.3069\n",
            "2000/2000 [==============================] - 183s 91ms/step - loss: 2.3079\n",
            "2000/2000 [==============================] - 181s 90ms/step - loss: 2.3030\n",
            "2000/2000 [==============================] - 178s 89ms/step - loss: 2.3057\n",
            "2000/2000 [==============================] - 180s 90ms/step - loss: 2.3033\n",
            "2000/2000 [==============================] - 180s 90ms/step - loss: 2.3005\n",
            "2000/2000 [==============================] - 184s 92ms/step - loss: 2.3026\n",
            "2000/2000 [==============================] - 182s 91ms/step - loss: 2.3029\n",
            "2000/2000 [==============================] - 179s 90ms/step - loss: 2.3011\n",
            "2000/2000 [==============================] - 183s 92ms/step - loss: 2.2984\n",
            "2000/2000 [==============================] - 185s 92ms/step - loss: 2.2950\n",
            "2000/2000 [==============================] - 184s 92ms/step - loss: 2.3015\n",
            "2000/2000 [==============================] - 183s 91ms/step - loss: 2.2978\n",
            "2000/2000 [==============================] - 182s 91ms/step - loss: 2.2989\n",
            "2000/2000 [==============================] - 181s 91ms/step - loss: 2.2940\n",
            "2000/2000 [==============================] - 178s 89ms/step - loss: 2.2935\n",
            "2000/2000 [==============================] - 179s 90ms/step - loss: 2.2941\n",
            "2000/2000 [==============================] - 179s 90ms/step - loss: 2.2990\n",
            "2000/2000 [==============================] - 181s 91ms/step - loss: 2.2909\n",
            "2000/2000 [==============================] - 181s 90ms/step - loss: 2.2929\n",
            "2000/2000 [==============================] - 178s 89ms/step - loss: 2.2907\n",
            "2000/2000 [==============================] - 180s 90ms/step - loss: 2.2940\n",
            "2000/2000 [==============================] - 180s 90ms/step - loss: 2.2918\n",
            "2000/2000 [==============================] - 182s 91ms/step - loss: 2.2921\n",
            "2000/2000 [==============================] - 181s 90ms/step - loss: 2.2912\n",
            "2000/2000 [==============================] - 177s 89ms/step - loss: 2.2925\n",
            "2000/2000 [==============================] - 179s 89ms/step - loss: 2.2895\n",
            "2000/2000 [==============================] - 176s 88ms/step - loss: 2.2912\n",
            "2000/2000 [==============================] - 178s 89ms/step - loss: 2.2885\n",
            "2000/2000 [==============================] - 177s 88ms/step - loss: 2.2871\n",
            "2000/2000 [==============================] - 179s 90ms/step - loss: 2.2874\n",
            "2000/2000 [==============================] - 181s 90ms/step - loss: 2.2880\n",
            "2000/2000 [==============================] - 176s 88ms/step - loss: 2.2897\n",
            "2000/2000 [==============================] - 181s 90ms/step - loss: 2.2860\n",
            "2000/2000 [==============================] - 179s 90ms/step - loss: 2.2855\n",
            "2000/2000 [==============================] - 176s 88ms/step - loss: 2.2865\n",
            "2000/2000 [==============================] - 181s 90ms/step - loss: 2.2886\n",
            "2000/2000 [==============================] - 180s 90ms/step - loss: 2.2856\n",
            "2000/2000 [==============================] - 181s 90ms/step - loss: 2.2842\n",
            "2000/2000 [==============================] - 180s 90ms/step - loss: 2.2857\n",
            "2000/2000 [==============================] - 178s 89ms/step - loss: 2.2843\n",
            "2000/2000 [==============================] - 184s 92ms/step - loss: 2.2860\n",
            "2000/2000 [==============================] - 184s 92ms/step - loss: 2.2828\n",
            "2000/2000 [==============================] - 181s 90ms/step - loss: 2.2823\n",
            "2000/2000 [==============================] - 180s 90ms/step - loss: 2.2848\n",
            "2000/2000 [==============================] - 183s 91ms/step - loss: 2.2852\n",
            "2000/2000 [==============================] - 180s 90ms/step - loss: 2.2835\n",
            "2000/2000 [==============================] - 180s 90ms/step - loss: 2.2848\n",
            "2000/2000 [==============================] - 179s 89ms/step - loss: 2.2797\n",
            "2000/2000 [==============================] - 180s 90ms/step - loss: 2.2823\n",
            "2000/2000 [==============================] - 177s 89ms/step - loss: 2.2836\n",
            "2000/2000 [==============================] - 181s 91ms/step - loss: 2.2785\n",
            "2000/2000 [==============================] - 188s 94ms/step - loss: 2.2764\n",
            "2000/2000 [==============================] - 184s 92ms/step - loss: 2.2768\n",
            "2000/2000 [==============================] - 183s 91ms/step - loss: 2.2803\n",
            "2000/2000 [==============================] - 184s 92ms/step - loss: 2.2800\n",
            "2000/2000 [==============================] - 185s 93ms/step - loss: 2.2790\n",
            "2000/2000 [==============================] - 183s 91ms/step - loss: 2.2798\n",
            "2000/2000 [==============================] - 190s 95ms/step - loss: 2.2789\n",
            "2000/2000 [==============================] - 185s 92ms/step - loss: 2.2794\n",
            "2000/2000 [==============================] - 185s 92ms/step - loss: 2.2809\n",
            "2000/2000 [==============================] - 184s 92ms/step - loss: 2.2770\n"
          ],
          "name": "stdout"
        }
      ]
    },
    {
      "cell_type": "code",
      "metadata": {
        "id": "n9zshzdhOi6F"
      },
      "source": [
        "# Loading that last saved model from your model_weights folder\n",
        "model.load_weights('/content/drive/MyDrive/Image Captioning/Image_Captioning/model_weights/model_149.h5')"
      ],
      "execution_count": 53,
      "outputs": []
    },
    {
      "cell_type": "code",
      "metadata": {
        "id": "1852gqUlOi6F"
      },
      "source": [
        "images = '/content/drive/MyDrive/Image Captioning/Image_Captioning/data/Flicker8k_Dataset/'"
      ],
      "execution_count": 54,
      "outputs": []
    },
    {
      "cell_type": "code",
      "metadata": {
        "id": "Sk50F3dpOi6F"
      },
      "source": [
        "# Encoded_test pkl file for testing\n",
        "with open(\"/content/drive/MyDrive/Image Captioning/Image_Captioning/data/Pickle/encoded_test_images.pkl\", \"rb\") as encoded_pickle:\n",
        "    encoding_test = load(encoded_pickle)"
      ],
      "execution_count": 69,
      "outputs": []
    },
    {
      "cell_type": "code",
      "metadata": {
        "id": "CaFm_6nWOi6F"
      },
      "source": [
        "def imageSearch(photo):\n",
        "    in_text = 'startseq'\n",
        "    for i in range(max_length):\n",
        "        sequence = [wordtoix[w] for w in in_text.split() if w in wordtoix]\n",
        "        sequence = pad_sequences([sequence], maxlen=max_length)\n",
        "        yhat = model.predict([photo,sequence], verbose=0)\n",
        "        yhat = np.argmax(yhat)\n",
        "        word = ixtoword[yhat]\n",
        "        in_text += ' ' + word\n",
        "        if word == 'endseq':\n",
        "            break\n",
        "    final = in_text.split()\n",
        "    final = final[1:-1]\n",
        "    final = ' '.join(final)\n",
        "    return final"
      ],
      "execution_count": 70,
      "outputs": []
    },
    {
      "cell_type": "code",
      "metadata": {
        "id": "fVh37zN0Oi6G",
        "colab": {
          "base_uri": "https://localhost:8080/",
          "height": 286
        },
        "outputId": "88ca6221-df18-47b3-8a91-24f00d1330d0"
      },
      "source": [
        "# Result\n",
        "pic = list(encoding_test.keys())[0]\n",
        "image = encoding_test[pic].reshape((1,2048))\n",
        "x=plt.imread(images+pic)\n",
        "plt.imshow(x)\n",
        "plt.show()\n",
        "print(\"Image with Caption:\",imageSearch(image))"
      ],
      "execution_count": 72,
      "outputs": [
        {
          "output_type": "display_data",
          "data": {
            "image/png": "[encoded data removed]",
            "text/plain": [
              "<Figure size 432x288 with 1 Axes>"
            ]
          },
          "metadata": {
            "tags": [],
            "needs_background": "light"
          }
        },
        {
          "output_type": "stream",
          "text": [
            "Image with Caption: dog is jumping over hurdle\n"
          ],
          "name": "stdout"
        }
      ]
    },
    {
      "cell_type": "markdown",
      "metadata": {
        "id": "PSAgpVWinmKn"
      },
      "source": [
        "# New Section"
      ]
    }
  ]
}